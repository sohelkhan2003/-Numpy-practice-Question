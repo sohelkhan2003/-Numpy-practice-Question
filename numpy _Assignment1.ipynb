{
 "cells": [
  {
   "cell_type": "markdown",
   "id": "4af15611",
   "metadata": {},
   "source": [
    "I. Create a 4x4 matrix representing a game board with values ran\n",
    "ging from 0 to 15. Extract and print the bottom-right 2x2 subboard.\n"
   ]
  },
  {
   "cell_type": "code",
   "execution_count": 1,
   "id": "683b6693",
   "metadata": {},
   "outputs": [],
   "source": [
    "import numpy as np"
   ]
  },
  {
   "cell_type": "code",
   "execution_count": 6,
   "id": "19edefa8",
   "metadata": {},
   "outputs": [
    {
     "data": {
      "text/plain": [
       "array([[ 0,  1,  2,  3],\n",
       "       [ 4,  5,  6,  7],\n",
       "       [ 8,  9, 10, 11],\n",
       "       [12, 13, 14, 15]])"
      ]
     },
     "execution_count": 6,
     "metadata": {},
     "output_type": "execute_result"
    }
   ],
   "source": [
    "s1=np.arange(0,16).reshape(4,4)\n",
    "s1"
   ]
  },
  {
   "cell_type": "code",
   "execution_count": 7,
   "id": "82259c17",
   "metadata": {},
   "outputs": [
    {
     "data": {
      "text/plain": [
       "array([[10, 11],\n",
       "       [14, 15]])"
      ]
     },
     "execution_count": 7,
     "metadata": {},
     "output_type": "execute_result"
    }
   ],
   "source": [
    "s1[2:,2:]"
   ]
  },
  {
   "cell_type": "code",
   "execution_count": 4,
   "id": "64d908ce",
   "metadata": {},
   "outputs": [
    {
     "data": {
      "text/plain": [
       "array([[ 0,  1,  2,  3],\n",
       "       [ 4,  5,  6,  7],\n",
       "       [ 8,  9, 10, 11],\n",
       "       [12, 13, 14, 15]])"
      ]
     },
     "execution_count": 4,
     "metadata": {},
     "output_type": "execute_result"
    }
   ],
   "source": [
    "s=np.arange(0,16).reshape(4,4)\n",
    "s"
   ]
  },
  {
   "cell_type": "code",
   "execution_count": 5,
   "id": "23887f9f",
   "metadata": {},
   "outputs": [
    {
     "data": {
      "text/plain": [
       "array([[10, 11],\n",
       "       [14, 15]])"
      ]
     },
     "execution_count": 5,
     "metadata": {},
     "output_type": "execute_result"
    }
   ],
   "source": [
    "s[2:,2:]"
   ]
  },
  {
   "cell_type": "markdown",
   "id": "7801f83f",
   "metadata": {},
   "source": [
    "II. Generate an array with 20 random integers between 10 and 50.\n",
    "Slice out every alternate element starting from the second ele\n",
    "ment and print the result.\n"
   ]
  },
  {
   "cell_type": "code",
   "execution_count": 11,
   "id": "c8124825",
   "metadata": {},
   "outputs": [
    {
     "data": {
      "text/plain": [
       "array([25, 28, 32, 18, 32, 32, 20, 47, 10, 44, 16, 25, 27, 33, 45, 32, 10,\n",
       "       22, 31, 39], dtype=int32)"
      ]
     },
     "execution_count": 11,
     "metadata": {},
     "output_type": "execute_result"
    }
   ],
   "source": [
    "s=np.random.randint(10,50,size=20)\n",
    "s"
   ]
  },
  {
   "cell_type": "code",
   "execution_count": 12,
   "id": "7097c380",
   "metadata": {},
   "outputs": [
    {
     "data": {
      "text/plain": [
       "array([28, 18, 32, 47, 44, 25, 33, 32, 22, 39], dtype=int32)"
      ]
     },
     "execution_count": 12,
     "metadata": {},
     "output_type": "execute_result"
    }
   ],
   "source": [
    "s[1::2]"
   ]
  },
  {
   "cell_type": "code",
   "execution_count": 12,
   "id": "29f88013",
   "metadata": {},
   "outputs": [
    {
     "data": {
      "text/plain": [
       "array([38, 14, 16, 20, 31, 45, 22, 19, 44, 30, 23, 49, 34, 25, 31, 20, 41,\n",
       "       21, 24, 39], dtype=int32)"
      ]
     },
     "execution_count": 12,
     "metadata": {},
     "output_type": "execute_result"
    }
   ],
   "source": [
    "arr=np.random.randint(10,50,size=20)\n",
    "arr"
   ]
  },
  {
   "cell_type": "code",
   "execution_count": 14,
   "id": "6b99f72c",
   "metadata": {},
   "outputs": [
    {
     "data": {
      "text/plain": [
       "array([14, 20, 45, 19, 30, 49, 25, 20, 21, 39], dtype=int32)"
      ]
     },
     "execution_count": 14,
     "metadata": {},
     "output_type": "execute_result"
    }
   ],
   "source": [
    "slicing_arr=arr[1::2]\n",
    "slicing_arr"
   ]
  },
  {
   "cell_type": "markdown",
   "id": "a85f120d",
   "metadata": {},
   "source": [
    "III. Create a 4x4 matrix with elements range between 16 to 31.\n",
    "Extract and print the middle 2x2 sub-matrix."
   ]
  },
  {
   "cell_type": "code",
   "execution_count": 15,
   "id": "4113c9de",
   "metadata": {},
   "outputs": [
    {
     "data": {
      "text/plain": [
       "array([[16, 17, 18, 19],\n",
       "       [20, 21, 22, 23],\n",
       "       [24, 25, 26, 27],\n",
       "       [28, 29, 30, 31]])"
      ]
     },
     "execution_count": 15,
     "metadata": {},
     "output_type": "execute_result"
    }
   ],
   "source": [
    "s1=np.arange(16,32).reshape(4,4)\n",
    "s1"
   ]
  },
  {
   "cell_type": "code",
   "execution_count": 16,
   "id": "fd753005",
   "metadata": {},
   "outputs": [
    {
     "data": {
      "text/plain": [
       "array([[21, 22],\n",
       "       [25, 26]])"
      ]
     },
     "execution_count": 16,
     "metadata": {},
     "output_type": "execute_result"
    }
   ],
   "source": [
    "s1[1:3,1:3]"
   ]
  },
  {
   "cell_type": "code",
   "execution_count": 17,
   "id": "e96a98b3",
   "metadata": {},
   "outputs": [
    {
     "data": {
      "text/plain": [
       "array([[16, 17, 18, 19],\n",
       "       [20, 21, 22, 23],\n",
       "       [24, 25, 26, 27],\n",
       "       [28, 29, 30, 31]])"
      ]
     },
     "execution_count": 17,
     "metadata": {},
     "output_type": "execute_result"
    }
   ],
   "source": [
    "arr=np.arange(16,32).reshape(4,4)\n",
    "arr"
   ]
  },
  {
   "cell_type": "code",
   "execution_count": 18,
   "id": "80afa666",
   "metadata": {},
   "outputs": [
    {
     "data": {
      "text/plain": [
       "array([[21, 22],\n",
       "       [25, 26]])"
      ]
     },
     "execution_count": 18,
     "metadata": {},
     "output_type": "execute_result"
    }
   ],
   "source": [
    "arr[1:3,1:3]"
   ]
  },
  {
   "cell_type": "markdown",
   "id": "61b664cf",
   "metadata": {},
   "source": [
    "IV. 3D array representing RGB colour channels of a 2x3 image. Slice\n",
    "and print the green channel (second channel)."
   ]
  },
  {
   "cell_type": "code",
   "execution_count": 18,
   "id": "fbd48465",
   "metadata": {},
   "outputs": [
    {
     "data": {
      "text/plain": [
       "array([[[37, 22, 47],\n",
       "        [14, 27, 23],\n",
       "        [13, 48, 18]],\n",
       "\n",
       "       [[32, 35,  3],\n",
       "        [43, 32, 33],\n",
       "        [41,  5, 18]],\n",
       "\n",
       "       [[13, 36,  7],\n",
       "        [48, 30,  1],\n",
       "        [13, 29, 30]]], dtype=int32)"
      ]
     },
     "execution_count": 18,
     "metadata": {},
     "output_type": "execute_result"
    }
   ],
   "source": [
    "s1=np.random.randint(1,50,size=[3,3,3])\n",
    "s1"
   ]
  },
  {
   "cell_type": "code",
   "execution_count": 38,
   "id": "8f935d43",
   "metadata": {},
   "outputs": [
    {
     "data": {
      "text/plain": [
       "array([[22, 27, 48],\n",
       "       [35, 32,  5],\n",
       "       [36, 30, 29]], dtype=int32)"
      ]
     },
     "execution_count": 38,
     "metadata": {},
     "output_type": "execute_result"
    }
   ],
   "source": [
    "s1[:,:,1]"
   ]
  },
  {
   "cell_type": "code",
   "execution_count": 24,
   "id": "b838602c",
   "metadata": {},
   "outputs": [
    {
     "data": {
      "text/plain": [
       "array([[[18, 49, 22],\n",
       "        [49, 44,  9],\n",
       "        [38, 38, 36]],\n",
       "\n",
       "       [[42, 41,  8],\n",
       "        [38, 21, 25],\n",
       "        [35, 34,  9]],\n",
       "\n",
       "       [[13, 21, 11],\n",
       "        [10, 41, 15],\n",
       "        [ 1, 48, 49]]], dtype=int32)"
      ]
     },
     "execution_count": 24,
     "metadata": {},
     "output_type": "execute_result"
    }
   ],
   "source": [
    "arr=np.random.randint(1,50,size=[3,3,3])\n",
    "arr"
   ]
  },
  {
   "cell_type": "code",
   "execution_count": 27,
   "id": "ce50830c",
   "metadata": {},
   "outputs": [
    {
     "data": {
      "text/plain": [
       "array([[49, 44, 38],\n",
       "       [41, 21, 34],\n",
       "       [21, 41, 48]], dtype=int32)"
      ]
     },
     "execution_count": 27,
     "metadata": {},
     "output_type": "execute_result"
    }
   ],
   "source": [
    "green_chanel=arr[:,:,1]\n",
    "green_chanel"
   ]
  },
  {
   "cell_type": "markdown",
   "id": "eb47f2b5",
   "metadata": {},
   "source": [
    "V. Create a 4x4x4 array of random elements. Extract and print a\n",
    "2x2x2 sub-array from the centre of the array.\n"
   ]
  },
  {
   "cell_type": "code",
   "execution_count": 40,
   "id": "e3684175",
   "metadata": {},
   "outputs": [
    {
     "data": {
      "text/plain": [
       "array([[[ 5, 24, 16, 18],\n",
       "        [25, 33, 28, 36],\n",
       "        [22, 26, 27, 42],\n",
       "        [34, 34,  6,  6]],\n",
       "\n",
       "       [[16, 29, 38, 43],\n",
       "        [18, 49, 17, 34],\n",
       "        [ 3, 46,  1, 31],\n",
       "        [40, 44, 17, 26]],\n",
       "\n",
       "       [[49, 31, 30, 20],\n",
       "        [ 2, 33,  4, 40],\n",
       "        [23, 31, 36, 19],\n",
       "        [17, 14, 15,  6]],\n",
       "\n",
       "       [[23, 21, 40, 26],\n",
       "        [44, 18, 28, 38],\n",
       "        [ 1, 36, 32, 16],\n",
       "        [11,  5, 34, 17]]], dtype=int32)"
      ]
     },
     "execution_count": 40,
     "metadata": {},
     "output_type": "execute_result"
    }
   ],
   "source": [
    "s1=np.random.randint(1,50,size=[4,4,4])\n",
    "s1"
   ]
  },
  {
   "cell_type": "code",
   "execution_count": 42,
   "id": "5254119b",
   "metadata": {},
   "outputs": [
    {
     "data": {
      "text/plain": [
       "array([[[49, 17],\n",
       "        [46,  1]],\n",
       "\n",
       "       [[33,  4],\n",
       "        [31, 36]]], dtype=int32)"
      ]
     },
     "execution_count": 42,
     "metadata": {},
     "output_type": "execute_result"
    }
   ],
   "source": [
    "s1[1:3,1:3,1:3]"
   ]
  },
  {
   "cell_type": "code",
   "execution_count": 30,
   "id": "4bd0aa7a",
   "metadata": {},
   "outputs": [
    {
     "data": {
      "text/plain": [
       "array([[[41,  2, 49, 25],\n",
       "        [34, 14, 40, 48],\n",
       "        [37, 35,  2,  1],\n",
       "        [44,  1, 27, 49]],\n",
       "\n",
       "       [[ 4, 30, 24,  6],\n",
       "        [42, 33, 35, 34],\n",
       "        [11, 15, 16, 10],\n",
       "        [25,  6,  5,  7]],\n",
       "\n",
       "       [[14,  9,  3, 17],\n",
       "        [19, 41, 32,  6],\n",
       "        [34, 23, 33,  4],\n",
       "        [37, 14, 38, 27]],\n",
       "\n",
       "       [[29, 44, 11, 11],\n",
       "        [41, 24, 48, 12],\n",
       "        [18, 13,  3,  5],\n",
       "        [15, 25, 27, 17]]], dtype=int32)"
      ]
     },
     "execution_count": 30,
     "metadata": {},
     "output_type": "execute_result"
    }
   ],
   "source": [
    "random_num=np.random.randint(1,50,size=[4,4,4])\n",
    "random_num"
   ]
  },
  {
   "cell_type": "code",
   "execution_count": 33,
   "id": "9802727c",
   "metadata": {},
   "outputs": [
    {
     "data": {
      "text/plain": [
       "array([[[33, 35],\n",
       "        [15, 16]],\n",
       "\n",
       "       [[41, 32],\n",
       "        [23, 33]]], dtype=int32)"
      ]
     },
     "execution_count": 33,
     "metadata": {},
     "output_type": "execute_result"
    }
   ],
   "source": [
    "random_num[1:3,1:3,1:3]"
   ]
  },
  {
   "cell_type": "markdown",
   "id": "221584cc",
   "metadata": {},
   "source": [
    "VI. Write a program which replace odd elements 2D array with -1.\n"
   ]
  },
  {
   "cell_type": "code",
   "execution_count": 49,
   "id": "7ac14c0b",
   "metadata": {},
   "outputs": [
    {
     "data": {
      "text/plain": [
       "array([[-1,  2, -1,  4, -1],\n",
       "       [ 6, -1,  8, -1, 10],\n",
       "       [-1, 12, -1, 14, -1],\n",
       "       [16, -1, 18, -1, 20]])"
      ]
     },
     "execution_count": 49,
     "metadata": {},
     "output_type": "execute_result"
    }
   ],
   "source": [
    "s=np.arange(1,21).reshape(4,5)\n",
    "s[s%2!=0]=-1\n",
    "s"
   ]
  },
  {
   "cell_type": "code",
   "execution_count": 40,
   "id": "8e2fdba1",
   "metadata": {},
   "outputs": [
    {
     "data": {
      "text/plain": [
       "array([[ 1,  2,  3,  4,  5],\n",
       "       [ 6,  7,  8,  9, 10],\n",
       "       [11, 12, 13, 14, 15],\n",
       "       [16, 17, 18, 19, 20]])"
      ]
     },
     "execution_count": 40,
     "metadata": {},
     "output_type": "execute_result"
    }
   ],
   "source": [
    "arr=np.arange(1,21).reshape(4,5)\n",
    "arr"
   ]
  },
  {
   "cell_type": "code",
   "execution_count": 43,
   "id": "e666fe75",
   "metadata": {},
   "outputs": [
    {
     "data": {
      "text/plain": [
       "array([[-1,  2, -1,  4, -1],\n",
       "       [ 6, -1,  8, -1, 10],\n",
       "       [-1, 12, -1, 14, -1],\n",
       "       [16, -1, 18, -1, 20]])"
      ]
     },
     "execution_count": 43,
     "metadata": {},
     "output_type": "execute_result"
    }
   ],
   "source": [
    "arr[arr%2!=0 ]=-1\n",
    "arr"
   ]
  },
  {
   "cell_type": "markdown",
   "id": "215b7ac5",
   "metadata": {},
   "source": [
    "VII. You have a 7x7 grid representing scoreboard. Print the values o\n",
    "f the main diagonal (from top-left to bottom-right)."
   ]
  },
  {
   "cell_type": "code",
   "execution_count": 51,
   "id": "88312216",
   "metadata": {},
   "outputs": [
    {
     "data": {
      "text/plain": [
       "array([ 1,  9, 17, 25, 33, 41, 49])"
      ]
     },
     "execution_count": 51,
     "metadata": {},
     "output_type": "execute_result"
    }
   ],
   "source": [
    "s=np.arange(1,50).reshape(7,7)\n",
    "s.diagonal()"
   ]
  },
  {
   "cell_type": "code",
   "execution_count": 45,
   "id": "847d158f",
   "metadata": {},
   "outputs": [
    {
     "data": {
      "text/plain": [
       "array([[ 1,  2,  3,  4,  5,  6,  7],\n",
       "       [ 8,  9, 10, 11, 12, 13, 14],\n",
       "       [15, 16, 17, 18, 19, 20, 21],\n",
       "       [22, 23, 24, 25, 26, 27, 28],\n",
       "       [29, 30, 31, 32, 33, 34, 35],\n",
       "       [36, 37, 38, 39, 40, 41, 42],\n",
       "       [43, 44, 45, 46, 47, 48, 49]])"
      ]
     },
     "execution_count": 45,
     "metadata": {},
     "output_type": "execute_result"
    }
   ],
   "source": [
    "arr=np.arange(1,50).reshape(7,7)\n",
    "arr"
   ]
  },
  {
   "cell_type": "code",
   "execution_count": 50,
   "id": "58158062",
   "metadata": {},
   "outputs": [
    {
     "data": {
      "text/plain": [
       "array([ 1,  9, 17, 25, 33, 41, 49])"
      ]
     },
     "execution_count": 50,
     "metadata": {},
     "output_type": "execute_result"
    }
   ],
   "source": [
    "arr.diagonal()"
   ]
  },
  {
   "cell_type": "markdown",
   "id": "13075053",
   "metadata": {},
   "source": [
    "VIII. Ask user to input two numbers a, b. Write a program to\n",
    "generate a random array of shape (a, b) and print the array and\n",
    "average of the array"
   ]
  },
  {
   "cell_type": "code",
   "execution_count": 52,
   "id": "a84bc3ff",
   "metadata": {},
   "outputs": [
    {
     "data": {
      "text/plain": [
       "array([[20,  2, 34, 12, 43],\n",
       "       [19, 14, 13, 43, 44],\n",
       "       [32, 32, 21, 33,  8],\n",
       "       [17, 44, 22, 31, 22],\n",
       "       [25, 30, 21,  2, 31]], dtype=int32)"
      ]
     },
     "execution_count": 52,
     "metadata": {},
     "output_type": "execute_result"
    }
   ],
   "source": [
    "a=int(input(\"Enter a row:\"))\n",
    "b=int(input(\"Enter a Column:\"))\n",
    "arr=np.random.randint(1,50,size=(a,b))\n",
    "arr"
   ]
  },
  {
   "cell_type": "code",
   "execution_count": 53,
   "id": "6af38434",
   "metadata": {},
   "outputs": [
    {
     "data": {
      "text/plain": [
       "np.float64(24.6)"
      ]
     },
     "execution_count": 53,
     "metadata": {},
     "output_type": "execute_result"
    }
   ],
   "source": [
    "arr.mean()"
   ]
  },
  {
   "cell_type": "code",
   "execution_count": 78,
   "id": "31a3eb46",
   "metadata": {},
   "outputs": [
    {
     "data": {
      "text/plain": [
       "array([[28, 20, 38, 16, 24],\n",
       "       [24, 26, 45,  3, 24],\n",
       "       [11, 44,  1, 49, 27]], dtype=int32)"
      ]
     },
     "execution_count": 78,
     "metadata": {},
     "output_type": "execute_result"
    }
   ],
   "source": [
    "a=int(input(\"Enter a row:\"))\n",
    "b=int(input(\"Enter a Column:\"))\n",
    "arr=np.random.randint(1,50,size=(a,b))\n",
    "arr"
   ]
  },
  {
   "cell_type": "code",
   "execution_count": 79,
   "id": "ff88095e",
   "metadata": {},
   "outputs": [
    {
     "data": {
      "text/plain": [
       "np.float64(25.333333333333332)"
      ]
     },
     "execution_count": 79,
     "metadata": {},
     "output_type": "execute_result"
    }
   ],
   "source": [
    "Avarage=np.mean(arr)\n",
    "Avarage"
   ]
  },
  {
   "cell_type": "markdown",
   "id": "09eb48d4",
   "metadata": {},
   "source": [
    "IX. Write a program to Create a null vector of size 10 but the fifth\n",
    "value which is 1."
   ]
  },
  {
   "cell_type": "code",
   "execution_count": 56,
   "id": "689a5141",
   "metadata": {},
   "outputs": [
    {
     "data": {
      "text/plain": [
       "array([0., 0., 0., 0., 1., 0., 0., 0., 0., 0.])"
      ]
     },
     "execution_count": 56,
     "metadata": {},
     "output_type": "execute_result"
    }
   ],
   "source": [
    "s=np.zeros(10)\n",
    "s[4]=1\n",
    "s"
   ]
  },
  {
   "cell_type": "code",
   "execution_count": 87,
   "id": "6a2afa5e",
   "metadata": {},
   "outputs": [
    {
     "data": {
      "text/plain": [
       "array([0., 0., 0., 0., 0., 0., 0., 0., 0., 0.])"
      ]
     },
     "execution_count": 87,
     "metadata": {},
     "output_type": "execute_result"
    }
   ],
   "source": [
    "Null_vector=np.zeros(10)\n",
    "Null_vector"
   ]
  },
  {
   "cell_type": "code",
   "execution_count": 88,
   "id": "1fa12794",
   "metadata": {},
   "outputs": [
    {
     "data": {
      "text/plain": [
       "array([0., 0., 0., 0., 1., 0., 0., 0., 0., 0.])"
      ]
     },
     "execution_count": 88,
     "metadata": {},
     "output_type": "execute_result"
    }
   ],
   "source": [
    "Null_vector[4]=1\n",
    "Null_vector"
   ]
  },
  {
   "cell_type": "markdown",
   "id": "6981bcd6",
   "metadata": {},
   "source": [
    "X. Write a program to create a 5x5 matrix with row values ranging\n",
    "from 0 to 4."
   ]
  },
  {
   "cell_type": "code",
   "execution_count": 57,
   "id": "0d49f856",
   "metadata": {},
   "outputs": [
    {
     "data": {
      "text/plain": [
       "array([[0, 1, 2, 3, 4],\n",
       "       [0, 1, 2, 3, 4],\n",
       "       [0, 1, 2, 3, 4],\n",
       "       [0, 1, 2, 3, 4],\n",
       "       [0, 1, 2, 3, 4]])"
      ]
     },
     "execution_count": 57,
     "metadata": {},
     "output_type": "execute_result"
    }
   ],
   "source": [
    "np.tile(np.arange(5),(5,1))"
   ]
  },
  {
   "cell_type": "code",
   "execution_count": 106,
   "id": "b3dff5ac",
   "metadata": {},
   "outputs": [
    {
     "data": {
      "text/plain": [
       "array([[0, 1, 2, 3, 4],\n",
       "       [0, 1, 2, 3, 4],\n",
       "       [0, 1, 2, 3, 4],\n",
       "       [0, 1, 2, 3, 4],\n",
       "       [0, 1, 2, 3, 4]])"
      ]
     },
     "execution_count": 106,
     "metadata": {},
     "output_type": "execute_result"
    }
   ],
   "source": [
    "np.tile(np.arange(5),(5,1))"
   ]
  },
  {
   "cell_type": "markdown",
   "id": "bf72c318",
   "metadata": {},
   "source": [
    "XI. Write a program which Swap first column of array with second\n",
    "column in the array of 3x3 matrix."
   ]
  },
  {
   "cell_type": "code",
   "execution_count": 63,
   "id": "b6dc865b",
   "metadata": {},
   "outputs": [
    {
     "data": {
      "text/plain": [
       "array([[1, 2, 3],\n",
       "       [4, 5, 6],\n",
       "       [7, 8, 9]])"
      ]
     },
     "execution_count": 63,
     "metadata": {},
     "output_type": "execute_result"
    }
   ],
   "source": [
    "s=np.arange(1,10).reshape(3,3)\n",
    "s"
   ]
  },
  {
   "cell_type": "code",
   "execution_count": 65,
   "id": "ec404a27",
   "metadata": {},
   "outputs": [
    {
     "data": {
      "text/plain": [
       "array([[2, 1, 3],\n",
       "       [5, 4, 6],\n",
       "       [8, 7, 9]])"
      ]
     },
     "execution_count": 65,
     "metadata": {},
     "output_type": "execute_result"
    }
   ],
   "source": [
    "s[:,[0,1]]=s[:,[1,0]]\n",
    "s"
   ]
  },
  {
   "cell_type": "code",
   "execution_count": 136,
   "id": "8f9efdb8",
   "metadata": {},
   "outputs": [
    {
     "data": {
      "text/plain": [
       "array([[1, 2, 3],\n",
       "       [4, 5, 6],\n",
       "       [7, 8, 9]])"
      ]
     },
     "execution_count": 136,
     "metadata": {},
     "output_type": "execute_result"
    }
   ],
   "source": [
    "arr=np.arange(1,10).reshape(3,3)\n",
    "arr"
   ]
  },
  {
   "cell_type": "code",
   "execution_count": 137,
   "id": "c627289e",
   "metadata": {},
   "outputs": [
    {
     "data": {
      "text/plain": [
       "array([[2, 1, 3],\n",
       "       [5, 4, 6],\n",
       "       [8, 7, 9]])"
      ]
     },
     "execution_count": 137,
     "metadata": {},
     "output_type": "execute_result"
    }
   ],
   "source": [
    "arr[:,[0,1]]=arr[:,[1,0]]\n",
    "arr"
   ]
  },
  {
   "cell_type": "code",
   "execution_count": 138,
   "id": "7df5d0bc",
   "metadata": {},
   "outputs": [
    {
     "data": {
      "text/plain": [
       "array([[2, 1, 3],\n",
       "       [8, 7, 9],\n",
       "       [5, 4, 6]])"
      ]
     },
     "execution_count": 138,
     "metadata": {},
     "output_type": "execute_result"
    }
   ],
   "source": [
    "arr[[1,2]]=arr[[2,1]]\n",
    "arr"
   ]
  }
 ],
 "metadata": {
  "kernelspec": {
   "display_name": "Python 3",
   "language": "python",
   "name": "python3"
  },
  "language_info": {
   "codemirror_mode": {
    "name": "ipython",
    "version": 3
   },
   "file_extension": ".py",
   "mimetype": "text/x-python",
   "name": "python",
   "nbconvert_exporter": "python",
   "pygments_lexer": "ipython3",
   "version": "3.12.3"
  }
 },
 "nbformat": 4,
 "nbformat_minor": 5
}
