{
 "cells": [
  {
   "cell_type": "markdown",
   "id": "ce1789cd",
   "metadata": {},
   "source": [
    "Q1. Write a python program which takes dictionary as an input and convert it\n",
    "into a numpy array.\n"
   ]
  },
  {
   "cell_type": "code",
   "execution_count": 3,
   "id": "a510b249",
   "metadata": {},
   "outputs": [
    {
     "data": {
      "text/plain": [
       "array([['a', '1'],\n",
       "       ['b', '2'],\n",
       "       ['c', '3'],\n",
       "       ['D', '4'],\n",
       "       ['E', '5']], dtype='<U21')"
      ]
     },
     "execution_count": 3,
     "metadata": {},
     "output_type": "execute_result"
    }
   ],
   "source": [
    "import numpy as np\n",
    "dic={'a':1,'b':2,'c':3,'D':4,'E':5}\n",
    "np.array(list(dic.items()))"
   ]
  },
  {
   "cell_type": "code",
   "execution_count": 1,
   "id": "661ebc86",
   "metadata": {},
   "outputs": [
    {
     "name": "stdout",
     "output_type": "stream",
     "text": [
      "{'a': 1, 'b': 2, 'c': 3, 'D': 4, 'E': 5}\n"
     ]
    }
   ],
   "source": [
    "import numpy as np\n",
    "dic={'a':1,'b':2,'c':3,'D':4,'E':5}\n",
    "converted_array=np.array(list(dic.items()))\n",
    "print(dic)\n"
   ]
  },
  {
   "cell_type": "code",
   "execution_count": 2,
   "id": "7037898d",
   "metadata": {},
   "outputs": [
    {
     "data": {
      "text/plain": [
       "array([['a', '1'],\n",
       "       ['b', '2'],\n",
       "       ['c', '3'],\n",
       "       ['D', '4'],\n",
       "       ['E', '5']], dtype='<U21')"
      ]
     },
     "execution_count": 2,
     "metadata": {},
     "output_type": "execute_result"
    }
   ],
   "source": [
    "converted_array"
   ]
  },
  {
   "cell_type": "markdown",
   "id": "a4f8aa04",
   "metadata": {},
   "source": [
    "Q2. Given a 3D array x of shape (2, 3, 4) and a 2D array y of shape (3, 4). Write\n",
    "a NumPy program to add them using broadcasting."
   ]
  },
  {
   "cell_type": "code",
   "execution_count": 8,
   "id": "f4b0f5e7",
   "metadata": {},
   "outputs": [
    {
     "data": {
      "text/plain": [
       "array([[[10, 17, 54, 26],\n",
       "        [46, 90, 23, 62],\n",
       "        [56, 91, 40, 32]],\n",
       "\n",
       "       [[28, 17, 35, 27],\n",
       "        [31, 83, 17, 45],\n",
       "        [38, 60, 54, 45]]], dtype=int32)"
      ]
     },
     "execution_count": 8,
     "metadata": {},
     "output_type": "execute_result"
    }
   ],
   "source": [
    "a=np.random.randint(1,50,size=[2,3,4])\n",
    "b=np.random.randint(1,50,size=[3,4])\n",
    "s=a+b\n",
    "s"
   ]
  },
  {
   "cell_type": "code",
   "execution_count": 3,
   "id": "c7eca6fc",
   "metadata": {},
   "outputs": [
    {
     "name": "stdout",
     "output_type": "stream",
     "text": [
      "[[[99 56 50 64]\n",
      "  [30 89 89 62]\n",
      "  [62 43 35 24]]\n",
      "\n",
      " [[62 55 48 32]\n",
      "  [72 89 35 30]\n",
      "  [75 10 59 28]]]\n",
      "[[16 22 49 39]\n",
      " [35 29 29 21]\n",
      " [10 39 39 19]]\n"
     ]
    }
   ],
   "source": [
    "arr=np.random.randint(1,100,size=[2,3,4])\n",
    "arr1=np.random.randint(1,50,size=[3,4])\n",
    "print(arr)\n",
    "print(arr1)\n"
   ]
  },
  {
   "cell_type": "code",
   "execution_count": 4,
   "id": "79088320",
   "metadata": {},
   "outputs": [
    {
     "data": {
      "text/plain": [
       "array([[[115,  78,  99, 103],\n",
       "        [ 65, 118, 118,  83],\n",
       "        [ 72,  82,  74,  43]],\n",
       "\n",
       "       [[ 78,  77,  97,  71],\n",
       "        [107, 118,  64,  51],\n",
       "        [ 85,  49,  98,  47]]], dtype=int32)"
      ]
     },
     "execution_count": 4,
     "metadata": {},
     "output_type": "execute_result"
    }
   ],
   "source": [
    "arr2=arr+arr1\n",
    "arr2"
   ]
  },
  {
   "cell_type": "markdown",
   "id": "74aaddcb",
   "metadata": {},
   "source": [
    "Q3. Write a python program which finds the nearest element in the array to a\n",
    "given integer.\n",
    "Inputs: a=23 and array - [10 17 24 31 38 45 52 59].\n",
    "Expected Output: Nearest element is 24"
   ]
  },
  {
   "cell_type": "code",
   "execution_count": 5,
   "id": "9e2c7e89",
   "metadata": {},
   "outputs": [
    {
     "name": "stdout",
     "output_type": "stream",
     "text": [
      "1 is 10\n"
     ]
    }
   ],
   "source": [
    "import numpy as np\n",
    "a=int(input(\"Enter a num :\"))\n",
    "arr=np.array([10,17,24,-31,45,52,59,77])\n",
    "diff=np.abs(arr-a)\n",
    "index=np.argmin(diff)\n",
    "nearest=arr[index]\n",
    "print(a,\"is\",nearest)"
   ]
  },
  {
   "cell_type": "code",
   "execution_count": null,
   "id": "8f5c7b63",
   "metadata": {},
   "outputs": [],
   "source": [
    "n=int(input(\"Enter a num\"))\n",
    "a=np.array([10,17,24,-31,45,52,59,77])\n",
    "dif=np.abs(a-n)\n",
    "index=np.argmin(dif)\n",
    "ne=arr[index]\n",
    "print(n,'is',ne)\n"
   ]
  },
  {
   "cell_type": "markdown",
   "id": "1f37b741",
   "metadata": {},
   "source": [
    "Q4. Write a python program to replace multiples of 3 or 5 as 0 in the given\n",
    "array.\n",
    "Input: arr=[1 2 3 4 5 6 7 9]\n",
    "Expected Output: [1 2 0 4 0 0 7 0]\n"
   ]
  },
  {
   "cell_type": "code",
   "execution_count": 24,
   "id": "6d0cbb93",
   "metadata": {},
   "outputs": [
    {
     "data": {
      "text/plain": [
       "array([1, 2, 0, 4, 0, 0, 7, 0])"
      ]
     },
     "execution_count": 24,
     "metadata": {},
     "output_type": "execute_result"
    }
   ],
   "source": [
    "arr=np.array([1,2,3,4,5,6,7,9])\n",
    "arr[[2,4,5,-1]]=[0]\n",
    "arr"
   ]
  },
  {
   "cell_type": "code",
   "execution_count": 6,
   "id": "da1df841",
   "metadata": {},
   "outputs": [
    {
     "data": {
      "text/plain": [
       "array([1, 2, 0, 4, 0, 0, 7, 0])"
      ]
     },
     "execution_count": 6,
     "metadata": {},
     "output_type": "execute_result"
    }
   ],
   "source": [
    "import numpy as np\n",
    "arr=np.array([1,2,3,4,5,6,7,9])\n",
    "arr[[2,4,5,-1]]=[0]\n",
    "arr"
   ]
  },
  {
   "cell_type": "markdown",
   "id": "4066dba9",
   "metadata": {},
   "source": [
    "Q5. Solve the give problem using fancy Indexing:\n",
    "\n",
    "1. Double the array elements at given indexes\n",
    "Given:\n",
    "arr = np.arrange(10)\n",
    "indexes = [0,3,4,9]\n",
    "Expected Output: [ 0 1 2 6 8 5 6 7 8 18]"
   ]
  },
  {
   "cell_type": "code",
   "execution_count": 40,
   "id": "fdd4ec67",
   "metadata": {},
   "outputs": [
    {
     "data": {
      "text/plain": [
       "array([ 0,  1,  2,  6,  8,  5,  6,  7,  8, 18])"
      ]
     },
     "execution_count": 40,
     "metadata": {},
     "output_type": "execute_result"
    }
   ],
   "source": [
    "arr=np.arange(10)\n",
    "indexs=[0,3,4,9]\n",
    "arr[indexs]=arr[indexs]*2\n",
    "arr"
   ]
  },
  {
   "cell_type": "code",
   "execution_count": 32,
   "id": "f4f8796c",
   "metadata": {},
   "outputs": [
    {
     "data": {
      "text/plain": [
       "array([ 0,  1,  2,  6,  8,  5,  6,  7,  8, 18])"
      ]
     },
     "execution_count": 32,
     "metadata": {},
     "output_type": "execute_result"
    }
   ],
   "source": [
    "arr=np.arange(10)\n",
    "indexes=[0,3,4,9]\n",
    "arr[indexes]=arr[indexes]*2\n",
    "arr\n"
   ]
  },
  {
   "cell_type": "markdown",
   "id": "24125618",
   "metadata": {},
   "source": [
    "2. Using a given array make a different array as in below example\n",
    "Given:\n",
    "array = [1,2,3]\n",
    "result array -> [1 1 1 2 2 2 3 3 3]\n",
    "• Internal repeation should be as length of the array.\n"
   ]
  },
  {
   "cell_type": "code",
   "execution_count": 41,
   "id": "6c1a11d6",
   "metadata": {},
   "outputs": [
    {
     "data": {
      "text/plain": [
       "array([1, 1, 1, 2, 2, 2, 3, 3, 3])"
      ]
     },
     "execution_count": 41,
     "metadata": {},
     "output_type": "execute_result"
    }
   ],
   "source": [
    "s=np.array([1,2,3])\n",
    "s.repeat(3)"
   ]
  },
  {
   "cell_type": "code",
   "execution_count": 8,
   "id": "8ff2b9bc",
   "metadata": {},
   "outputs": [
    {
     "name": "stdout",
     "output_type": "stream",
     "text": [
      "[1 2 3]\n",
      "[1 1 1 2 2 2 3 3 3]\n"
     ]
    }
   ],
   "source": [
    "arr=np.array([1,2,3])\n",
    "a1=np.repeat(arr,3)\n",
    "print(arr)\n",
    "\n",
    "print(a1)"
   ]
  },
  {
   "cell_type": "code",
   "execution_count": 9,
   "id": "c2fd229e",
   "metadata": {},
   "outputs": [
    {
     "name": "stdout",
     "output_type": "stream",
     "text": [
      "[1 1 1 2 2 2 3 3 3]\n"
     ]
    },
    {
     "data": {
      "text/plain": [
       "9"
      ]
     },
     "execution_count": 9,
     "metadata": {},
     "output_type": "execute_result"
    }
   ],
   "source": [
    "print(a1)\n",
    "len(a1)"
   ]
  },
  {
   "cell_type": "markdown",
   "id": "e8546905",
   "metadata": {},
   "source": [
    "Q6. You are given an array which is having some nan value. You job is to fill\n",
    "those nan values with mean element in the array.\n",
    "Given: arr = np.array([[1,2,np.nan],[4,2,6],[np.nan,np.nan,5]])"
   ]
  },
  {
   "cell_type": "code",
   "execution_count": 50,
   "id": "7c93a4fd",
   "metadata": {},
   "outputs": [
    {
     "data": {
      "text/plain": [
       "array([[1.        , 2.        , 3.33333333],\n",
       "       [4.        , 2.        , 6.        ],\n",
       "       [3.33333333, 3.33333333, 5.        ]])"
      ]
     },
     "execution_count": 50,
     "metadata": {},
     "output_type": "execute_result"
    }
   ],
   "source": [
    "arr=np.array([[1,2,np.nan],[4,2,6],[np.nan,np.nan,5]])\n",
    "m=np.nanmean(arr)\n",
    "arr[np.isnan(arr)]=m\n",
    "arr\n"
   ]
  },
  {
   "cell_type": "code",
   "execution_count": 10,
   "id": "f1ebffc7",
   "metadata": {},
   "outputs": [
    {
     "data": {
      "text/plain": [
       "array([[ 1.,  2., nan],\n",
       "       [ 4.,  2.,  6.],\n",
       "       [nan, nan,  5.]])"
      ]
     },
     "execution_count": 10,
     "metadata": {},
     "output_type": "execute_result"
    }
   ],
   "source": [
    "arr=np.array([[1,2,np.nan],[4,2,6],[np.nan,np.nan,5]])\n",
    "arr"
   ]
  },
  {
   "cell_type": "code",
   "execution_count": 11,
   "id": "a5406dd0",
   "metadata": {},
   "outputs": [
    {
     "data": {
      "text/plain": [
       "np.float64(3.3333333333333335)"
      ]
     },
     "execution_count": 11,
     "metadata": {},
     "output_type": "execute_result"
    }
   ],
   "source": [
    "mean=np.nanmean(arr)\n",
    "mean"
   ]
  },
  {
   "cell_type": "code",
   "execution_count": 12,
   "id": "d174441c",
   "metadata": {},
   "outputs": [
    {
     "data": {
      "text/plain": [
       "array([[1.        , 2.        , 3.33333333],\n",
       "       [4.        , 2.        , 6.        ],\n",
       "       [3.33333333, 3.33333333, 5.        ]])"
      ]
     },
     "execution_count": 12,
     "metadata": {},
     "output_type": "execute_result"
    }
   ],
   "source": [
    "arr[np.isnan(arr)]=mean\n",
    "arr\n"
   ]
  },
  {
   "cell_type": "markdown",
   "id": "070d5a11",
   "metadata": {},
   "source": [
    "Q7. Scenario: A sports team tracks player performance across 12 matches.\n",
    "Task: Create a (12, 5) array with random integers (0 to 100, representing\n",
    "scores). Mask the values where the player's score is less than the team's\n",
    "average score for that match. Replace these values with -1.\n",
    "Expected Output Example: Array with some values replaced by -1.\n"
   ]
  },
  {
   "cell_type": "code",
   "execution_count": 63,
   "id": "b5d95226",
   "metadata": {},
   "outputs": [
    {
     "name": "stdout",
     "output_type": "stream",
     "text": [
      "[[42 70 60 46 30]\n",
      " [27  9 84 43 55]\n",
      " [60 30  2 60 49]\n",
      " [61 99  4 55 67]\n",
      " [32 91 50 39 88]\n",
      " [67 62 43  9 70]\n",
      " [35 49 57 13 65]\n",
      " [61  3  7 52 28]\n",
      " [32 53  3 81 53]\n",
      " [56 13 14 56  8]\n",
      " [54 56  9  5 76]\n",
      " [52  6 73 57 38]]\n",
      "44.483333333333334\n"
     ]
    }
   ],
   "source": [
    "arr=np.random.randint(1,100,size=(12,5))\n",
    "print(arr)\n",
    "avg=arr.mean()\n",
    "print(avg)\n"
   ]
  },
  {
   "cell_type": "code",
   "execution_count": 65,
   "id": "aacf3e78",
   "metadata": {},
   "outputs": [
    {
     "data": {
      "text/plain": [
       "array([[-1, 70, 60, 46, -1],\n",
       "       [-1, -1, 84, -1, 55],\n",
       "       [60, -1, -1, 60, 49],\n",
       "       [61, 99, -1, 55, 67],\n",
       "       [-1, 91, 50, -1, 88],\n",
       "       [67, 62, -1, -1, 70],\n",
       "       [-1, 49, 57, -1, 65],\n",
       "       [61, -1, -1, 52, -1],\n",
       "       [-1, 53, -1, 81, 53],\n",
       "       [56, -1, -1, 56, -1],\n",
       "       [54, 56, -1, -1, 76],\n",
       "       [52, -1, 73, 57, -1]], dtype=int32)"
      ]
     },
     "execution_count": 65,
     "metadata": {},
     "output_type": "execute_result"
    }
   ],
   "source": [
    "arr[avg>arr]=-1\n",
    "arr"
   ]
  },
  {
   "cell_type": "code",
   "execution_count": null,
   "id": "7a1134c6",
   "metadata": {},
   "outputs": [
    {
     "data": {
      "text/plain": [
       "array([[14, 26, 58, 94, 63],\n",
       "       [ 7, 38, 40, 54, 95],\n",
       "       [16, 92, 54, 74, 20],\n",
       "       [30,  1, 37, 43, 16],\n",
       "       [75, 76, 41, 98, 74],\n",
       "       [56,  1, 46, 67, 85],\n",
       "       [26, 72, 17, 50, 44],\n",
       "       [34, 41, 30, 49, 90],\n",
       "       [ 4, 14, 94, 22, 48],\n",
       "       [78, 10, 84, 48, 36],\n",
       "       [28, 47, 41, 64,  0],\n",
       "       [83, 45, 86,  8, 74]], dtype=int32)"
      ]
     },
     "execution_count": 1,
     "metadata": {},
     "output_type": "execute_result"
    }
   ],
   "source": [
    "import numpy as np\n",
    "arr=np.random.randint(0,100,size=(12,5))\n",
    "arr"
   ]
  },
  {
   "cell_type": "code",
   "execution_count": 88,
   "id": "26e578bc",
   "metadata": {},
   "outputs": [],
   "source": [
    "avg=np.mean(arr)\n",
    "arr[avg>arr]=-1"
   ]
  },
  {
   "cell_type": "code",
   "execution_count": 89,
   "id": "d9bf008b",
   "metadata": {},
   "outputs": [
    {
     "data": {
      "text/plain": [
       "array([[-1, -1, -1, 47, 67, -1],\n",
       "       [-1, -1, -1, -1, -1, -1],\n",
       "       [95, 96, -1, 40, 48, 50]], dtype=int32)"
      ]
     },
     "execution_count": 89,
     "metadata": {},
     "output_type": "execute_result"
    }
   ],
   "source": [
    "arr"
   ]
  },
  {
   "cell_type": "markdown",
   "id": "40dd5c43",
   "metadata": {},
   "source": [
    "Q8. Scenario: A business tracks monthly revenue and expenses for 3 departments across 6 months. \n",
    "Task: Create two (3, 6) random matrices for revenue and expenses. Perform element-wise multiplication and sum along the row axis to calculate the total profit for each department. \n"
   ]
  },
  {
   "cell_type": "code",
   "execution_count": 67,
   "id": "40ab4da5",
   "metadata": {},
   "outputs": [
    {
     "name": "stdout",
     "output_type": "stream",
     "text": [
      "[[1109 1491 1645 1042 1280 1131]\n",
      " [1764 1752 1051 1092 1186 1973]\n",
      " [1360 1680 1082 1230 1032 1103]]\n",
      "[[56158 53591 51501 59829 56774 58106]\n",
      " [54557 54119 56159 57987 52466 57888]\n",
      " [55326 56323 57735 54643 55727 53199]]\n"
     ]
    }
   ],
   "source": [
    "arr1=np.random.randint(1000,2000,size=(3,6))\n",
    "arr2=np.random.randint(50000,60000,size=(3,6))\n",
    "print(arr1)\n",
    "print(arr2)"
   ]
  },
  {
   "cell_type": "code",
   "execution_count": 70,
   "id": "2ae648f1",
   "metadata": {},
   "outputs": [
    {
     "data": {
      "text/plain": [
       "array([427632972, 489837649, 415734921])"
      ]
     },
     "execution_count": 70,
     "metadata": {},
     "output_type": "execute_result"
    }
   ],
   "source": [
    "arr=arr1*arr2\n",
    "np.sum(arr,axis=1)"
   ]
  },
  {
   "cell_type": "code",
   "execution_count": null,
   "id": "dbb77714",
   "metadata": {},
   "outputs": [
    {
     "name": "stdout",
     "output_type": "stream",
     "text": [
      "[[1878 1526 1689 1221 1988 1147]\n",
      " [1898 1207 1140 1174 1117 1175]\n",
      " [1904 1732 1151 1851 1056 1534]]\n",
      "[[58529 55361 59025 55910 56765 51704]\n",
      " [50038 52643 54232 56349 53954 56890]\n",
      " [55463 51012 58311 59720 52993 57622]]\n"
     ]
    }
   ],
   "source": [
    "arr1=np.random.randint(1000,2000,size=(3,6))\n",
    "arr2=np.random.randint(50000,60000,size=(3,6))\n",
    "print(arr1)\n",
    "print(arr2)\n"
   ]
  },
  {
   "cell_type": "code",
   "execution_count": 27,
   "id": "08afd0bf",
   "metadata": {},
   "outputs": [
    {
     "data": {
      "text/plain": [
       "array([534510991, 413602799, 515964773])"
      ]
     },
     "execution_count": 27,
     "metadata": {},
     "output_type": "execute_result"
    }
   ],
   "source": [
    "mul=arr1*arr2\n",
    "np.sum(mul,axis=1)"
   ]
  },
  {
   "cell_type": "code",
   "execution_count": 21,
   "id": "45477b15",
   "metadata": {},
   "outputs": [
    {
     "name": "stdout",
     "output_type": "stream",
     "text": [
      "[27 36 24 47 67 22]\n"
     ]
    },
    {
     "data": {
      "text/plain": [
       "np.int32(223)"
      ]
     },
     "execution_count": 21,
     "metadata": {},
     "output_type": "execute_result"
    }
   ],
   "source": [
    "r1=arr[0]\n",
    "print(r1)\n",
    "sum(r1)"
   ]
  },
  {
   "cell_type": "markdown",
   "id": "67ced52c",
   "metadata": {},
   "source": [
    "\n",
    "Q10. Scenario: A company tracks salaries of 15 employees in 3 departments. Task: Create a (3, 15) matrix of random salaries. Identify and print the department(s) where all employees have salaries above ₹50,000. Replace salaries less than ₹30,000 with the department's average salary. \n",
    " \n",
    "Expected Output Example: Original Salary matrix and Updated salary matrix. \n",
    "\n"
   ]
  },
  {
   "cell_type": "code",
   "execution_count": 90,
   "id": "9b6350e5",
   "metadata": {},
   "outputs": [
    {
     "data": {
      "text/plain": [
       "array([30872.93333333, 28401.93333333, 31053.13333333])"
      ]
     },
     "execution_count": 90,
     "metadata": {},
     "output_type": "execute_result"
    }
   ],
   "source": [
    "s=np.random.randint(20000,40000,size=(3,15))\n",
    "avg=np.mean(s,axis=1)\n",
    "avg"
   ]
  },
  {
   "cell_type": "code",
   "execution_count": 91,
   "id": "6176c1d6",
   "metadata": {},
   "outputs": [
    {
     "data": {
      "text/plain": [
       "np.float64(31053.133333333335)"
      ]
     },
     "execution_count": 91,
     "metadata": {},
     "output_type": "execute_result"
    }
   ],
   "source": [
    "max_avg=avg.max()\n",
    "max_avg"
   ]
  },
  {
   "cell_type": "code",
   "execution_count": 92,
   "id": "2b248344",
   "metadata": {},
   "outputs": [
    {
     "data": {
      "text/plain": [
       "array([False, False, False, False, False, False, False, False, False,\n",
       "       False, False, False, False, False, False, False, False, False,\n",
       "       False, False])"
      ]
     },
     "execution_count": 92,
     "metadata": {},
     "output_type": "execute_result"
    }
   ],
   "source": [
    "s[s<30000]==max_avg"
   ]
  },
  {
   "cell_type": "code",
   "execution_count": 93,
   "id": "a695fa9a",
   "metadata": {},
   "outputs": [
    {
     "data": {
      "text/plain": [
       "array([[28492, 29265, 34092, 25423, 20534, 32411, 37533, 31931, 29484,\n",
       "        32439, 30145, 24068, 38566, 35247, 33464],\n",
       "       [22105, 25452, 32288, 33610, 22238, 32587, 24585, 24816, 33173,\n",
       "        20390, 22596, 35127, 37458, 21968, 37636],\n",
       "       [33312, 30451, 37704, 30384, 36811, 29819, 34738, 21271, 25112,\n",
       "        28180, 29180, 27673, 32854, 30813, 37495]], dtype=int32)"
      ]
     },
     "execution_count": 93,
     "metadata": {},
     "output_type": "execute_result"
    }
   ],
   "source": [
    "s"
   ]
  },
  {
   "cell_type": "markdown",
   "id": "fe4e5450",
   "metadata": {},
   "source": [
    "s=np.arange(1,17).reshape(4,4)\n",
    "s\n",
    "# fancindexing\n",
    "s[[0,3]]\n",
    "# booleanindexing\n",
    "s>10\n",
    "s.shape\n",
    "s[s>10]\n",
    "# ravel fun to convert a 2d ya 30 any type to convet a  1 d array \n",
    "np.ravel(s)\n",
    "arr=np.arange(1,10)\n",
    "arr\n",
    "np.cumsum(arr)\n",
    "np.cumprod(arr)\n",
    "arr.shape\n",
    "a=np.expand_dims(arr,axis=0)\n",
    "a.shape"
   ]
  },
  {
   "cell_type": "markdown",
   "id": "987674e8",
   "metadata": {},
   "source": [
    "WHY NUMPY IS FASTER ?\n",
    "\n",
    "numpy array are store in continous place in memory unlike lists so process can access and manipualte them very effencently .\n",
    "this behavior is called locality of refrence in computer science \n",
    "\n",
    "numpy are a more than 50 times  faster\n",
    "array are less memory use 22"
   ]
  }
 ],
 "metadata": {
  "kernelspec": {
   "display_name": "Python 3",
   "language": "python",
   "name": "python3"
  },
  "language_info": {
   "codemirror_mode": {
    "name": "ipython",
    "version": 3
   },
   "file_extension": ".py",
   "mimetype": "text/x-python",
   "name": "python",
   "nbconvert_exporter": "python",
   "pygments_lexer": "ipython3",
   "version": "3.12.3"
  }
 },
 "nbformat": 4,
 "nbformat_minor": 5
}
