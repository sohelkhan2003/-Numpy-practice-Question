{
 "cells": [
  {
   "cell_type": "markdown",
   "id": "e6f92875",
   "metadata": {},
   "source": [
    "Q1. Write a program which Subtract the mean of each row from a\n",
    "matrix. (Create a matrix of random elements)"
   ]
  },
  {
   "cell_type": "code",
   "execution_count": 1,
   "id": "6c68e48a",
   "metadata": {},
   "outputs": [],
   "source": [
    "import numpy as np\n"
   ]
  },
  {
   "cell_type": "code",
   "execution_count": 34,
   "id": "721c70c1",
   "metadata": {},
   "outputs": [
    {
     "data": {
      "text/plain": [
       "array([[ 1,  2,  3,  4,  5],\n",
       "       [ 6,  7,  8,  9, 10],\n",
       "       [11, 12, 13, 14, 15],\n",
       "       [16, 17, 18, 19, 20]])"
      ]
     },
     "execution_count": 34,
     "metadata": {},
     "output_type": "execute_result"
    }
   ],
   "source": [
    "s1=np.arange(1,21).reshape(4,5)\n",
    "s1"
   ]
  },
  {
   "cell_type": "code",
   "execution_count": 47,
   "id": "c4b1b0d7",
   "metadata": {},
   "outputs": [
    {
     "data": {
      "text/plain": [
       "array([ 8.5,  9.5, 10.5, 11.5, 12.5])"
      ]
     },
     "execution_count": 47,
     "metadata": {},
     "output_type": "execute_result"
    }
   ],
   "source": [
    "s2=s1.mean(axis=0)\n",
    "s2"
   ]
  },
  {
   "cell_type": "code",
   "execution_count": 48,
   "id": "09f29288",
   "metadata": {},
   "outputs": [
    {
     "data": {
      "text/plain": [
       "array([[-7.5, -7.5, -7.5, -7.5, -7.5],\n",
       "       [-2.5, -2.5, -2.5, -2.5, -2.5],\n",
       "       [ 2.5,  2.5,  2.5,  2.5,  2.5],\n",
       "       [ 7.5,  7.5,  7.5,  7.5,  7.5]])"
      ]
     },
     "execution_count": 48,
     "metadata": {},
     "output_type": "execute_result"
    }
   ],
   "source": [
    "s3=s1-s2\n",
    "s3"
   ]
  },
  {
   "cell_type": "code",
   "execution_count": 25,
   "id": "1cb77353",
   "metadata": {},
   "outputs": [
    {
     "data": {
      "text/plain": [
       "array([[ 1,  2,  3,  4,  5],\n",
       "       [ 6,  7,  8,  9, 10],\n",
       "       [11, 12, 13, 14, 15],\n",
       "       [16, 17, 18, 19, 20]])"
      ]
     },
     "execution_count": 25,
     "metadata": {},
     "output_type": "execute_result"
    }
   ],
   "source": [
    "arr=np.arange(1,21).reshape(4,5)\n",
    "arr"
   ]
  },
  {
   "cell_type": "code",
   "execution_count": 31,
   "id": "111a7b35",
   "metadata": {},
   "outputs": [
    {
     "data": {
      "text/plain": [
       "array([ 8.5,  9.5, 10.5, 11.5, 12.5])"
      ]
     },
     "execution_count": 31,
     "metadata": {},
     "output_type": "execute_result"
    }
   ],
   "source": [
    "m=arr.mean(axis=0)\n",
    "m"
   ]
  },
  {
   "cell_type": "code",
   "execution_count": 32,
   "id": "5fd84d23",
   "metadata": {},
   "outputs": [
    {
     "data": {
      "text/plain": [
       "array([[-7.5, -7.5, -7.5, -7.5, -7.5],\n",
       "       [-2.5, -2.5, -2.5, -2.5, -2.5],\n",
       "       [ 2.5,  2.5,  2.5,  2.5,  2.5],\n",
       "       [ 7.5,  7.5,  7.5,  7.5,  7.5]])"
      ]
     },
     "execution_count": 32,
     "metadata": {},
     "output_type": "execute_result"
    }
   ],
   "source": [
    "subtract=arr-m\n",
    "subtract"
   ]
  },
  {
   "cell_type": "markdown",
   "id": "0c1deec7",
   "metadata": {},
   "source": [
    "Q2. Write a python program to count the number of elements in 2D\n",
    "array.\n",
    "Test case:\n",
    "Input: np.array([1, 2])\n",
    "Expected Output: 2"
   ]
  },
  {
   "cell_type": "code",
   "execution_count": 51,
   "id": "84a3fdec",
   "metadata": {},
   "outputs": [
    {
     "data": {
      "text/plain": [
       "array([[ 7, 13, 10, 14,  1],\n",
       "       [16,  1, 16,  6, 10],\n",
       "       [18, 10,  6, 11, 10],\n",
       "       [12,  1, 17,  7, 17]], dtype=int32)"
      ]
     },
     "execution_count": 51,
     "metadata": {},
     "output_type": "execute_result"
    }
   ],
   "source": [
    "a1=np.random.randint(1,20,size=[4,5])\n",
    "a1"
   ]
  },
  {
   "cell_type": "code",
   "execution_count": 53,
   "id": "1cb57a19",
   "metadata": {},
   "outputs": [
    {
     "data": {
      "text/plain": [
       "20"
      ]
     },
     "execution_count": 53,
     "metadata": {},
     "output_type": "execute_result"
    }
   ],
   "source": [
    "a1.size"
   ]
  },
  {
   "cell_type": "code",
   "execution_count": 22,
   "id": "d0436bb4",
   "metadata": {},
   "outputs": [
    {
     "data": {
      "text/plain": [
       "array([[12,  6,  2,  2],\n",
       "       [15, 17, 12, 19],\n",
       "       [13, 18, 13, 19],\n",
       "       [16, 16, 19, 12]], dtype=int32)"
      ]
     },
     "execution_count": 22,
     "metadata": {},
     "output_type": "execute_result"
    }
   ],
   "source": [
    "arr=np.random.randint(1,20,size=[4,4])\n",
    "arr"
   ]
  },
  {
   "cell_type": "code",
   "execution_count": null,
   "id": "0692e09f",
   "metadata": {},
   "outputs": [
    {
     "data": {
      "text/plain": [
       "16"
      ]
     },
     "execution_count": 27,
     "metadata": {},
     "output_type": "execute_result"
    }
   ],
   "source": [
    "# count ka liya size ka use kiya jata ha \n",
    "arr.size"
   ]
  },
  {
   "cell_type": "markdown",
   "id": "26fed629",
   "metadata": {},
   "source": [
    "Q3. You are given a space separated list of numbers. Your task is to\n",
    "print a reversed NumPy array with the element type float.\n",
    "Test Case:\n",
    "Input: 1 2 3 4 5 6 7 8\n",
    "Expected Output: [8.0 7.0 6.0 5.0 4.0 3.0 2.0 1.0]\n"
   ]
  },
  {
   "cell_type": "code",
   "execution_count": 56,
   "id": "66d5fb61",
   "metadata": {},
   "outputs": [
    {
     "name": "stdout",
     "output_type": "stream",
     "text": [
      "[1. 2. 3. 4. 5. 6. 7. 8.]\n"
     ]
    },
    {
     "data": {
      "text/plain": [
       "array([8., 7., 6., 5., 4., 3., 2., 1.])"
      ]
     },
     "execution_count": 56,
     "metadata": {},
     "output_type": "execute_result"
    }
   ],
   "source": [
    "arr=np.array([1,2,3,4,5,6,7,8],dtype=float)\n",
    "print(arr)\n",
    "arr[::-1]"
   ]
  },
  {
   "cell_type": "code",
   "execution_count": 54,
   "id": "79c25d6e",
   "metadata": {},
   "outputs": [
    {
     "data": {
      "text/plain": [
       "array([1., 2., 3., 4., 5., 6., 7., 8.])"
      ]
     },
     "execution_count": 54,
     "metadata": {},
     "output_type": "execute_result"
    }
   ],
   "source": [
    "arr=np.array([1,2,3,4,5,6,7,8],dtype=float)\n",
    "arr"
   ]
  },
  {
   "cell_type": "code",
   "execution_count": 52,
   "id": "615f2289",
   "metadata": {},
   "outputs": [
    {
     "data": {
      "text/plain": [
       "array([8., 7., 6., 5., 4., 3., 2., 1.])"
      ]
     },
     "execution_count": 52,
     "metadata": {},
     "output_type": "execute_result"
    }
   ],
   "source": [
    "arr[::-1]"
   ]
  },
  {
   "cell_type": "markdown",
   "id": "f153441b",
   "metadata": {},
   "source": [
    "Q4. Create the following pattern without hardcoding. Use only\n",
    "numpy functions and the below input array a.\n",
    "Input: a = np.array([1,2,3])\n",
    "Output: array([1, 1, 1, 2, 2, 2, 3, 3, 3, 1, 2, 3, 1, 2, 3, 1, 2, 3])"
   ]
  },
  {
   "cell_type": "code",
   "execution_count": 69,
   "id": "f3233328",
   "metadata": {},
   "outputs": [
    {
     "name": "stdout",
     "output_type": "stream",
     "text": [
      "[1 2 3]\n",
      "[1 1 1 2 2 2 3 3 3]\n",
      "[1 2 3 1 2 3 1 2 3]\n"
     ]
    },
    {
     "data": {
      "text/plain": [
       "array([1, 1, 1, 2, 2, 2, 3, 3, 3, 1, 2, 3, 1, 2, 3, 1, 2, 3])"
      ]
     },
     "execution_count": 69,
     "metadata": {},
     "output_type": "execute_result"
    }
   ],
   "source": [
    "a=np.array([1,2,3])\n",
    "print(a)\n",
    "a1=a.repeat(3)\n",
    "print(a1)\n",
    "a2=np.tile(a,3)\n",
    "print(a2)\n",
    "a3=np.concatenate([a1,a2])\n",
    "a3"
   ]
  },
  {
   "cell_type": "code",
   "execution_count": 55,
   "id": "17fff8c9",
   "metadata": {},
   "outputs": [
    {
     "data": {
      "text/plain": [
       "array([1, 2, 3])"
      ]
     },
     "execution_count": 55,
     "metadata": {},
     "output_type": "execute_result"
    }
   ],
   "source": [
    "a=np.array([1,2,3])\n",
    "a"
   ]
  },
  {
   "cell_type": "code",
   "execution_count": 65,
   "id": "3a5937be",
   "metadata": {},
   "outputs": [
    {
     "data": {
      "text/plain": [
       "array([1, 2, 3, 1, 2, 3, 1, 2, 3])"
      ]
     },
     "execution_count": 65,
     "metadata": {},
     "output_type": "execute_result"
    }
   ],
   "source": [
    "a1=np.repeat(a,3)#repeat mean repeat karna \n",
    "a2=np.tile(a,3)#tile mean seam to same repeat karna\n",
    "a1\n",
    "a2"
   ]
  },
  {
   "cell_type": "code",
   "execution_count": 66,
   "id": "c1626414",
   "metadata": {},
   "outputs": [
    {
     "data": {
      "text/plain": [
       "array([1, 1, 1, 2, 2, 2, 3, 3, 3, 1, 2, 3, 1, 2, 3, 1, 2, 3])"
      ]
     },
     "execution_count": 66,
     "metadata": {},
     "output_type": "execute_result"
    }
   ],
   "source": [
    "np.concatenate([a1,a2])"
   ]
  },
  {
   "cell_type": "markdown",
   "id": "b9963706",
   "metadata": {},
   "source": [
    "Q5. Write a function to create a 2d array with 1 on the border and 0\n",
    "inside. Take 2-D array shape as (a, b) as parameter to function.\n",
    "Input: a = 4\n",
    " b = 4\n",
    "Expected Output:\n",
    "[[1,1,1,1],\n",
    "[1,0,0,1],\n",
    "[1,0,0,1],\n",
    "[1,1,1,1]]"
   ]
  },
  {
   "cell_type": "code",
   "execution_count": 74,
   "id": "01dfcc8a",
   "metadata": {},
   "outputs": [
    {
     "data": {
      "text/plain": [
       "array([[1, 1, 1, 1],\n",
       "       [1, 0, 0, 1],\n",
       "       [1, 0, 0, 1],\n",
       "       [1, 1, 1, 1]])"
      ]
     },
     "execution_count": 74,
     "metadata": {},
     "output_type": "execute_result"
    }
   ],
   "source": [
    "a=4\n",
    "b=4\n",
    "arr=np.ones([a,b],dtype=int)\n",
    "arr\n",
    "arr[1:3,1:3]=0\n",
    "arr"
   ]
  },
  {
   "cell_type": "code",
   "execution_count": 78,
   "id": "ad00ee68",
   "metadata": {},
   "outputs": [
    {
     "data": {
      "text/plain": [
       "array([[1, 1, 1, 1],\n",
       "       [1, 1, 1, 1],\n",
       "       [1, 1, 1, 1],\n",
       "       [1, 1, 1, 1]])"
      ]
     },
     "execution_count": 78,
     "metadata": {},
     "output_type": "execute_result"
    }
   ],
   "source": [
    "a=4\n",
    "b=4\n",
    "arr=np.ones([a,b],dtype=int)\n",
    "arr"
   ]
  },
  {
   "cell_type": "code",
   "execution_count": 82,
   "id": "87ca9dde",
   "metadata": {},
   "outputs": [
    {
     "data": {
      "text/plain": [
       "array([[1, 1, 1, 1],\n",
       "       [1, 0, 0, 1],\n",
       "       [1, 0, 0, 1],\n",
       "       [1, 1, 1, 1]])"
      ]
     },
     "execution_count": 82,
     "metadata": {},
     "output_type": "execute_result"
    }
   ],
   "source": [
    "arr[1:3,1:3]=0\n",
    "arr"
   ]
  },
  {
   "cell_type": "markdown",
   "id": "4efb6bce",
   "metadata": {},
   "source": [
    "Q6. Write a function which will accept 2 arguments.\n",
    "First: A 1D numpy array arr\n",
    "Second: An integer n {Please make sure n<=len(arr)}\n",
    "Output: The output should be the nth largest item out of the array.\n",
    "Test Case:\n",
    "Input: arr = (12,34,40,7,1,0) and n=3,\n",
    "Output; 12\n",
    "Test case:\n",
    "Input: arr=(12,34,40,7,1,0) and n=1\n",
    "Output: 40"
   ]
  },
  {
   "cell_type": "code",
   "execution_count": 93,
   "id": "8081afec",
   "metadata": {},
   "outputs": [
    {
     "data": {
      "text/plain": [
       "np.int64(1)"
      ]
     },
     "execution_count": 93,
     "metadata": {},
     "output_type": "execute_result"
    }
   ],
   "source": [
    "import numpy as np\n",
    "def num(arr,n):\n",
    "    if n>=len(arr):\n",
    "        raise ValueError('n should be less than or equal to length of arr')\n",
    "    sorted_arr=np.sort(arr)[::-1]\n",
    "    return sorted_arr[n-1] \n",
    "arr=np.array([12,34,40,7,1,0])\n",
    "n=int(input(\"Entera  num\"))\n",
    "num(arr,n)"
   ]
  },
  {
   "cell_type": "code",
   "execution_count": 32,
   "id": "3eab13ed",
   "metadata": {},
   "outputs": [
    {
     "data": {
      "text/plain": [
       "np.int64(12)"
      ]
     },
     "execution_count": 32,
     "metadata": {},
     "output_type": "execute_result"
    }
   ],
   "source": [
    "import numpy as np\n",
    "def num(arr,n):\n",
    "    if n> len(arr):\n",
    "        raise ValueError(\"n should be less than or equal to length of arr\")\n",
    "    sorted_arr=np.sort(arr)[::-1]\n",
    "    return sorted_arr[n-1]\n",
    "arr=np.array([12,34,40,71,1,0])\n",
    "n=int(input(\"Enter a num\"))\n",
    "num(arr,n)\n"
   ]
  },
  {
   "cell_type": "markdown",
   "id": "4ce8e1c5",
   "metadata": {},
   "source": [
    "Q7. Write a program which makes an array having corresponding \n",
    "max value out of two given arrays. \n",
    "Input:  \n",
    "a=np.array([6,3,1,5,8]) \n",
    "b=np.array([3,2,1,7,2]) \n",
    "Output: [6 3 1 7 8] "
   ]
  },
  {
   "cell_type": "code",
   "execution_count": 95,
   "id": "e6507405",
   "metadata": {},
   "outputs": [
    {
     "data": {
      "text/plain": [
       "array([6, 3, 1, 7, 8])"
      ]
     },
     "execution_count": 95,
     "metadata": {},
     "output_type": "execute_result"
    }
   ],
   "source": [
    "a=np.array([6,3,1,5,8]) \n",
    "b=np.array([3,2,1,7,2]) \n",
    "max_value=np.maximum(a,b)\n",
    "max_value"
   ]
  },
  {
   "cell_type": "code",
   "execution_count": 13,
   "id": "e7c46fbf",
   "metadata": {},
   "outputs": [
    {
     "data": {
      "text/plain": [
       "array([6, 3, 1, 7, 8])"
      ]
     },
     "execution_count": 13,
     "metadata": {},
     "output_type": "execute_result"
    }
   ],
   "source": [
    "import numpy as np\n",
    "\n",
    "a=np.array([6,3,1,5,8]) \n",
    "b=np.array([3,2,1,7,2]) \n",
    "maximum_value=np.maximum(a,b)\n",
    "maximum_value\n"
   ]
  },
  {
   "cell_type": "markdown",
   "id": "664455d2",
   "metadata": {},
   "source": [
    "Q8. Write a python function that accepts infinite number of numpy \n",
    "arrays and do the vertical stack to them. Then return that new array \n",
    "as result. The function only accepts the numpy array, otherwise raise \n",
    "error. \n",
    "Test Case: \n",
    "Input: a= [[0 1 2 3 4]    \n",
    "[5 6 7 8 9]] \n",
    "b= [[1 1 1 1 1] \n",
    "[1 1 1 1 1]] \n",
    "Output: [[0 1 2 3 4] \n",
    "[5 6 7 8 9] \n",
    "[1 1 1 1 1] \n",
    "[1 1 1 1 1]] "
   ]
  },
  {
   "cell_type": "code",
   "execution_count": 100,
   "id": "9046c899",
   "metadata": {},
   "outputs": [
    {
     "data": {
      "text/plain": [
       "array([[0, 1, 2, 3, 4],\n",
       "       [5, 6, 7, 8, 9],\n",
       "       [1, 1, 1, 1, 1],\n",
       "       [1, 1, 1, 1, 1]])"
      ]
     },
     "execution_count": 100,
     "metadata": {},
     "output_type": "execute_result"
    }
   ],
   "source": [
    "a=np.array([[0,1,2,3,4],[5,6,7,8,9]])\n",
    "b=np.array([[1,1,1,1,1],[1,1,1,1,1]])\n",
    "np.vstack([a,b])"
   ]
  },
  {
   "cell_type": "code",
   "execution_count": 21,
   "id": "642bed0b",
   "metadata": {},
   "outputs": [
    {
     "data": {
      "text/plain": [
       "array([[1, 1, 1, 1, 1],\n",
       "       [1, 1, 1, 1, 1]])"
      ]
     },
     "execution_count": 21,
     "metadata": {},
     "output_type": "execute_result"
    }
   ],
   "source": [
    "import numpy as np\n",
    "a=np.array([[0,1,2,3,4],[5,6,7,8,9]])\n",
    "b=np.array([[1,1,1,1,1],[1,1,1,1,1]])\n",
    "a\n",
    "b\n"
   ]
  },
  {
   "cell_type": "code",
   "execution_count": 23,
   "id": "ad8c4ac8",
   "metadata": {},
   "outputs": [
    {
     "data": {
      "text/plain": [
       "array([[0, 1, 2, 3, 4],\n",
       "       [5, 6, 7, 8, 9],\n",
       "       [1, 1, 1, 1, 1],\n",
       "       [1, 1, 1, 1, 1]])"
      ]
     },
     "execution_count": 23,
     "metadata": {},
     "output_type": "execute_result"
    }
   ],
   "source": [
    "np.vstack([a,b])"
   ]
  }
 ],
 "metadata": {
  "kernelspec": {
   "display_name": "Python 3",
   "language": "python",
   "name": "python3"
  },
  "language_info": {
   "codemirror_mode": {
    "name": "ipython",
    "version": 3
   },
   "file_extension": ".py",
   "mimetype": "text/x-python",
   "name": "python",
   "nbconvert_exporter": "python",
   "pygments_lexer": "ipython3",
   "version": "3.12.3"
  }
 },
 "nbformat": 4,
 "nbformat_minor": 5
}
